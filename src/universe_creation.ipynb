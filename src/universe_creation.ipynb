{
 "cells": [
  {
   "cell_type": "markdown",
   "id": "e2d39ff0",
   "metadata": {},
   "source": [
    "# Import"
   ]
  },
  {
   "cell_type": "code",
   "execution_count": 1,
   "id": "98009981",
   "metadata": {},
   "outputs": [
    {
     "name": "stderr",
     "output_type": "stream",
     "text": [
      "/home/boobus/projects/factor_momentum/.venv/lib/python3.11/site-packages/tqdm/auto.py:21: TqdmWarning: IProgress not found. Please update jupyter and ipywidgets. See https://ipywidgets.readthedocs.io/en/stable/user_install.html\n",
      "  from .autonotebook import tqdm as notebook_tqdm\n",
      "2025-09-26 12:55:16,452\tINFO util.py:154 -- Missing packages: ['ipywidgets']. Run `pip install -U ipywidgets`, then restart the notebook server for rich notebook output.\n"
     ]
    }
   ],
   "source": [
    "import sf_quant as sf\n",
    "from sf_quant.data.exposures import load_exposures_by_date\n",
    "from sf_quant.data import load_assets_by_date\n",
    "import polars as pl\n",
    "import datetime as dt"
   ]
  },
  {
   "cell_type": "markdown",
   "id": "abcd28ff",
   "metadata": {},
   "source": [
    "# Betas and Returns"
   ]
  },
  {
   "cell_type": "code",
   "execution_count": 2,
   "id": "81993b7d",
   "metadata": {},
   "outputs": [],
   "source": [
    "start = dt.date(2020, 1, 7)\n",
    "end =  dt.date(2024, 1, 7)\n",
    "\n",
    "date_range = pl.date_range(\n",
    "    start=dt.date(2020, 1, 7),\n",
    "    end=dt.date(2024, 1, 7),\n",
    "    interval=\"1d\",\n",
    "    eager=True  # makes it return a Series directly\n",
    ")"
   ]
  },
  {
   "cell_type": "code",
   "execution_count": 3,
   "id": "f989db6c",
   "metadata": {},
   "outputs": [
    {
     "data": {
      "text/html": [
       "<div><style>\n",
       ".dataframe > thead > tr,\n",
       ".dataframe > tbody > tr {\n",
       "  text-align: right;\n",
       "  white-space: pre-wrap;\n",
       "}\n",
       "</style>\n",
       "<small>shape: (3_004_257, 4)</small><table border=\"1\" class=\"dataframe\"><thead><tr><th>date</th><th>barrid</th><th>price</th><th>return</th></tr><tr><td>date</td><td>str</td><td>f64</td><td>f64</td></tr></thead><tbody><tr><td>2021-06-30</td><td>&quot;USA06Z1&quot;</td><td>12.51</td><td>-0.0799</td></tr><tr><td>2021-07-01</td><td>&quot;USA06Z1&quot;</td><td>12.92</td><td>3.2774</td></tr><tr><td>2021-07-02</td><td>&quot;USA06Z1&quot;</td><td>12.4</td><td>-4.0248</td></tr><tr><td>2021-07-06</td><td>&quot;USA06Z1&quot;</td><td>12.47</td><td>0.5645</td></tr><tr><td>2021-07-07</td><td>&quot;USA06Z1&quot;</td><td>12.24</td><td>-1.8444</td></tr><tr><td>&hellip;</td><td>&hellip;</td><td>&hellip;</td><td>&hellip;</td></tr><tr><td>2023-12-29</td><td>&quot;USBPM41&quot;</td><td>28.1</td><td>-4.9713</td></tr><tr><td>2024-01-02</td><td>&quot;USBPM41&quot;</td><td>26.89</td><td>-4.306</td></tr><tr><td>2024-01-03</td><td>&quot;USBPM41&quot;</td><td>27.57</td><td>2.5288</td></tr><tr><td>2024-01-04</td><td>&quot;USBPM41&quot;</td><td>27.44</td><td>-0.4715</td></tr><tr><td>2024-01-05</td><td>&quot;USBPM41&quot;</td><td>24.93</td><td>-9.1472</td></tr></tbody></table></div>"
      ],
      "text/plain": [
       "shape: (3_004_257, 4)\n",
       "┌────────────┬─────────┬───────┬─────────┐\n",
       "│ date       ┆ barrid  ┆ price ┆ return  │\n",
       "│ ---        ┆ ---     ┆ ---   ┆ ---     │\n",
       "│ date       ┆ str     ┆ f64   ┆ f64     │\n",
       "╞════════════╪═════════╪═══════╪═════════╡\n",
       "│ 2021-06-30 ┆ USA06Z1 ┆ 12.51 ┆ -0.0799 │\n",
       "│ 2021-07-01 ┆ USA06Z1 ┆ 12.92 ┆ 3.2774  │\n",
       "│ 2021-07-02 ┆ USA06Z1 ┆ 12.4  ┆ -4.0248 │\n",
       "│ 2021-07-06 ┆ USA06Z1 ┆ 12.47 ┆ 0.5645  │\n",
       "│ 2021-07-07 ┆ USA06Z1 ┆ 12.24 ┆ -1.8444 │\n",
       "│ …          ┆ …       ┆ …     ┆ …       │\n",
       "│ 2023-12-29 ┆ USBPM41 ┆ 28.1  ┆ -4.9713 │\n",
       "│ 2024-01-02 ┆ USBPM41 ┆ 26.89 ┆ -4.306  │\n",
       "│ 2024-01-03 ┆ USBPM41 ┆ 27.57 ┆ 2.5288  │\n",
       "│ 2024-01-04 ┆ USBPM41 ┆ 27.44 ┆ -0.4715 │\n",
       "│ 2024-01-05 ┆ USBPM41 ┆ 24.93 ┆ -9.1472 │\n",
       "└────────────┴─────────┴───────┴─────────┘"
      ]
     },
     "execution_count": 3,
     "metadata": {},
     "output_type": "execute_result"
    }
   ],
   "source": [
    "return_columns = ['date','barrid','price','return']\n",
    "df_raw = sf.data.load_assets(start=start,end=end,in_universe=True,columns=return_columns)\n",
    "df_raw"
   ]
  },
  {
   "cell_type": "code",
   "execution_count": 4,
   "id": "b59c634b",
   "metadata": {},
   "outputs": [],
   "source": [
    "#16 types of style/risk factors from barra\n",
    "style_factors = ['BETA','DIVYILD','EARNQLTY','EARNYILD','GROWTH',\n",
    "                 'LEVERAGE','LTREVRSL','MGMTQLTY','MIDCAP','MOMENTUM',\n",
    "                 'NETRET','PROFIT','PROSPECT','RESVOL','SIZE','VALUE']\n",
    "style_factors = [f'USSLOWL_{fac}' for fac in style_factors]"
   ]
  },
  {
   "cell_type": "code",
   "execution_count": 5,
   "id": "6b0008e2",
   "metadata": {},
   "outputs": [
    {
     "name": "stdout",
     "output_type": "stream",
     "text": [
      "3.35% Complete\n",
      "6.77% Complete\n",
      "10.19% Complete\n",
      "13.61% Complete\n",
      "17.03% Complete\n",
      "20.45% Complete\n",
      "23.87% Complete\n",
      "27.29% Complete\n",
      "30.71% Complete\n",
      "34.13% Complete\n",
      "37.55% Complete\n",
      "40.97% Complete\n",
      "44.39% Complete\n",
      "47.81% Complete\n",
      "51.23% Complete\n",
      "54.65% Complete\n",
      "58.07% Complete\n",
      "61.49% Complete\n",
      "64.91% Complete\n",
      "68.33% Complete\n",
      "71.75% Complete\n",
      "75.17% Complete\n",
      "78.59% Complete\n",
      "82.01% Complete\n",
      "85.43% Complete\n",
      "88.85% Complete\n",
      "92.27% Complete\n",
      "95.69% Complete\n",
      "99.11% Complete\n"
     ]
    }
   ],
   "source": [
    "beta_list = []\n",
    "beta_chunks = []\n",
    "for i, date in enumerate(date_range):\n",
    "\n",
    "    beta_list.append(load_exposures_by_date(date))\n",
    "    \n",
    "    percent_done = i/len(date_range)\n",
    "    if (i+1) % 50 == 0:\n",
    "        print(f'{percent_done*100:.2f}% Complete')\n",
    "        betas_chunk = (pl.concat(beta_list).select(['date', 'barrid'] + style_factors)\n",
    "                       .join(df_raw, on=['date', 'barrid'], how='inner'))\n",
    "        \n",
    "        \n",
    "        betas_chunk.write_csv(f'/home/boobus/temp/betas{int((i+1)/50)}.csv')\n",
    "        beta_list = []\n",
    "\n",
    "betas_chunk = (pl.concat(beta_list).select(['date', 'barrid'] + style_factors)\n",
    "               .join(df_raw, on=['date', 'barrid'], how='inner'))\n",
    "betas_chunk.write_csv(f'/home/boobus/temp/betas{int((i+1)/50)}.csv')\n",
    "beta_list = []"
   ]
  },
  {
   "cell_type": "code",
   "execution_count": 6,
   "id": "53937d7f",
   "metadata": {},
   "outputs": [
    {
     "ename": "ShapeError",
     "evalue": "unable to append to a DataFrame of width 18 with a DataFrame of width 20",
     "output_type": "error",
     "traceback": [
      "\u001b[31m---------------------------------------------------------------------------\u001b[39m",
      "\u001b[31mShapeError\u001b[39m                                Traceback (most recent call last)",
      "\u001b[36mCell\u001b[39m\u001b[36m \u001b[39m\u001b[32mIn[6]\u001b[39m\u001b[32m, line 6\u001b[39m\n\u001b[32m      3\u001b[39m     chunk = pl.read_csv(\u001b[33mf\u001b[39m\u001b[33m'\u001b[39m\u001b[33m/home/boobus/temp/betas\u001b[39m\u001b[38;5;132;01m{\u001b[39;00mi\u001b[38;5;132;01m}\u001b[39;00m\u001b[33m.csv\u001b[39m\u001b[33m'\u001b[39m, infer_schema_length=\u001b[32m10000\u001b[39m, try_parse_dates=\u001b[38;5;28;01mTrue\u001b[39;00m)\n\u001b[32m      4\u001b[39m     chunks.append(chunk)\n\u001b[32m----> \u001b[39m\u001b[32m6\u001b[39m df = \u001b[43mpl\u001b[49m\u001b[43m.\u001b[49m\u001b[43mconcat\u001b[49m\u001b[43m(\u001b[49m\u001b[43mchunks\u001b[49m\u001b[43m)\u001b[49m\n",
      "\u001b[36mFile \u001b[39m\u001b[32m~/projects/factor_momentum/.venv/lib/python3.11/site-packages/polars/functions/eager.py:231\u001b[39m, in \u001b[36mconcat\u001b[39m\u001b[34m(items, how, rechunk, parallel)\u001b[39m\n\u001b[32m    229\u001b[39m \u001b[38;5;28;01mif\u001b[39;00m \u001b[38;5;28misinstance\u001b[39m(first, pl.DataFrame):\n\u001b[32m    230\u001b[39m     \u001b[38;5;28;01mif\u001b[39;00m how == \u001b[33m\"\u001b[39m\u001b[33mvertical\u001b[39m\u001b[33m\"\u001b[39m:\n\u001b[32m--> \u001b[39m\u001b[32m231\u001b[39m         out = wrap_df(\u001b[43mplr\u001b[49m\u001b[43m.\u001b[49m\u001b[43mconcat_df\u001b[49m\u001b[43m(\u001b[49m\u001b[43melems\u001b[49m\u001b[43m)\u001b[49m)\n\u001b[32m    232\u001b[39m     \u001b[38;5;28;01melif\u001b[39;00m how == \u001b[33m\"\u001b[39m\u001b[33mvertical_relaxed\u001b[39m\u001b[33m\"\u001b[39m:\n\u001b[32m    233\u001b[39m         out = wrap_ldf(\n\u001b[32m    234\u001b[39m             plr.concat_lf(\n\u001b[32m    235\u001b[39m                 [df.lazy() \u001b[38;5;28;01mfor\u001b[39;00m df \u001b[38;5;129;01min\u001b[39;00m elems],\n\u001b[32m   (...)\u001b[39m\u001b[32m    239\u001b[39m             )\n\u001b[32m    240\u001b[39m         ).collect(optimizations=QueryOptFlags._eager())\n",
      "\u001b[31mShapeError\u001b[39m: unable to append to a DataFrame of width 18 with a DataFrame of width 20"
     ]
    }
   ],
   "source": [
    "chunks = []\n",
    "for i in range(30):\n",
    "    chunk = pl.read_csv(f'/home/boobus/temp/betas{i}.csv', infer_schema_length=10000, try_parse_dates=True)\n",
    "    chunks.append(chunk)\n",
    "\n",
    "df = pl.concat(chunks)"
   ]
  },
  {
   "cell_type": "code",
   "execution_count": 9,
   "id": "775830ac",
   "metadata": {},
   "outputs": [
    {
     "data": {
      "text/html": [
       "<div><style>\n",
       ".dataframe > thead > tr,\n",
       ".dataframe > tbody > tr {\n",
       "  text-align: right;\n",
       "  white-space: pre-wrap;\n",
       "}\n",
       "</style>\n",
       "<small>shape: (12_095, 18)</small><table border=\"1\" class=\"dataframe\"><thead><tr><th>date</th><th>barrid</th><th>USSLOWL_BETA</th><th>USSLOWL_DIVYILD</th><th>USSLOWL_EARNQLTY</th><th>USSLOWL_EARNYILD</th><th>USSLOWL_GROWTH</th><th>USSLOWL_LEVERAGE</th><th>USSLOWL_LTREVRSL</th><th>USSLOWL_MGMTQLTY</th><th>USSLOWL_MIDCAP</th><th>USSLOWL_MOMENTUM</th><th>USSLOWL_NETRET</th><th>USSLOWL_PROFIT</th><th>USSLOWL_PROSPECT</th><th>USSLOWL_RESVOL</th><th>USSLOWL_SIZE</th><th>USSLOWL_VALUE</th></tr><tr><td>date</td><td>str</td><td>f64</td><td>f64</td><td>f64</td><td>f64</td><td>f64</td><td>f64</td><td>f64</td><td>f64</td><td>f64</td><td>f64</td><td>f64</td><td>f64</td><td>f64</td><td>f64</td><td>f64</td><td>f64</td></tr></thead><tbody><tr><td>2000-01-06</td><td>&quot;AUSBYA1&quot;</td><td>-2.582</td><td>1.172</td><td>0.34</td><td>1.6</td><td>-0.518</td><td>0.119</td><td>0.924</td><td>0.798</td><td>-0.329</td><td>-0.497</td><td>null</td><td>0.4</td><td>-0.902</td><td>0.438</td><td>0.641</td><td>0.163</td></tr><tr><td>2000-01-06</td><td>&quot;AUSDCQ1&quot;</td><td>-0.172</td><td>-0.642</td><td>0.36</td><td>-0.039</td><td>0.851</td><td>-0.415</td><td>0.791</td><td>-0.656</td><td>0.369</td><td>-0.559</td><td>null</td><td>0.385</td><td>-0.219</td><td>-2.387</td><td>-2.311</td><td>-0.287</td></tr><tr><td>2000-01-06</td><td>&quot;BELAM51&quot;</td><td>-1.126</td><td>-0.387</td><td>0.48</td><td>0.024</td><td>-0.32</td><td>0.122</td><td>-0.47</td><td>0.783</td><td>-0.361</td><td>-0.037</td><td>0.019</td><td>0.205</td><td>0.135</td><td>1.789</td><td>0.693</td><td>-0.277</td></tr><tr><td>2000-01-06</td><td>&quot;CANASK1&quot;</td><td>-2.58</td><td>-0.642</td><td>-1.192</td><td>0.627</td><td>0.144</td><td>-0.415</td><td>2.516</td><td>-0.151</td><td>-2.79</td><td>-0.548</td><td>null</td><td>-0.782</td><td>-0.013</td><td>-2.814</td><td>-4.97</td><td>1.409</td></tr><tr><td>2000-01-06</td><td>&quot;CANAUD1&quot;</td><td>-2.58</td><td>-0.642</td><td>0.329</td><td>2.104</td><td>-0.733</td><td>2.129</td><td>0.812</td><td>0.577</td><td>-0.352</td><td>-0.548</td><td>null</td><td>-0.374</td><td>-1.019</td><td>0.4</td><td>0.68</td><td>0.728</td></tr><tr><td>&hellip;</td><td>&hellip;</td><td>&hellip;</td><td>&hellip;</td><td>&hellip;</td><td>&hellip;</td><td>&hellip;</td><td>&hellip;</td><td>&hellip;</td><td>&hellip;</td><td>&hellip;</td><td>&hellip;</td><td>&hellip;</td><td>&hellip;</td><td>&hellip;</td><td>&hellip;</td><td>&hellip;</td><td>&hellip;</td></tr><tr><td>2000-01-06</td><td>&quot;USAZZF1&quot;</td><td>-1.141</td><td>-0.724</td><td>-2.225</td><td>-2.294</td><td>0.396</td><td>-0.721</td><td>1.396</td><td>-2.787</td><td>-2.79</td><td>-2.083</td><td>null</td><td>-0.472</td><td>2.152</td><td>2.743</td><td>-4.055</td><td>-0.507</td></tr><tr><td>2000-01-06</td><td>&quot;USAZZJ1&quot;</td><td>-1.194</td><td>-0.642</td><td>-1.967</td><td>-0.176</td><td>-0.43</td><td>-0.415</td><td>1.89</td><td>-0.253</td><td>-2.79</td><td>-1.452</td><td>null</td><td>-0.387</td><td>0.288</td><td>-0.234</td><td>-4.97</td><td>1.214</td></tr><tr><td>2000-01-06</td><td>&quot;USAZZS1&quot;</td><td>-2.585</td><td>-0.642</td><td>-0.129</td><td>-0.859</td><td>0.688</td><td>-0.555</td><td>0.138</td><td>-0.589</td><td>0.195</td><td>-1.383</td><td>null</td><td>-0.558</td><td>0.475</td><td>0.568</td><td>-2.439</td><td>1.234</td></tr><tr><td>2000-01-06</td><td>&quot;USAZZT1&quot;</td><td>0.087</td><td>-0.397</td><td>-1.556</td><td>2.639</td><td>0.008</td><td>-0.415</td><td>-0.469</td><td>-0.087</td><td>-2.79</td><td>-1.293</td><td>null</td><td>0.505</td><td>2.894</td><td>1.587</td><td>-4.438</td><td>2.473</td></tr><tr><td>2000-01-06</td><td>&quot;USAZZW1&quot;</td><td>-0.259</td><td>0.093</td><td>-2.751</td><td>1.364</td><td>-0.531</td><td>-0.721</td><td>0.133</td><td>-1.699</td><td>-2.79</td><td>-1.385</td><td>null</td><td>0.263</td><td>0.858</td><td>-0.215</td><td>-3.656</td><td>1.266</td></tr></tbody></table></div>"
      ],
      "text/plain": [
       "shape: (12_095, 18)\n",
       "┌────────────┬─────────┬───────────┬───────────┬───┬───────────┬───────────┬───────────┬───────────┐\n",
       "│ date       ┆ barrid  ┆ USSLOWL_B ┆ USSLOWL_D ┆ … ┆ USSLOWL_P ┆ USSLOWL_R ┆ USSLOWL_S ┆ USSLOWL_V │\n",
       "│ ---        ┆ ---     ┆ ETA       ┆ IVYILD    ┆   ┆ ROSPECT   ┆ ESVOL     ┆ IZE       ┆ ALUE      │\n",
       "│ date       ┆ str     ┆ ---       ┆ ---       ┆   ┆ ---       ┆ ---       ┆ ---       ┆ ---       │\n",
       "│            ┆         ┆ f64       ┆ f64       ┆   ┆ f64       ┆ f64       ┆ f64       ┆ f64       │\n",
       "╞════════════╪═════════╪═══════════╪═══════════╪═══╪═══════════╪═══════════╪═══════════╪═══════════╡\n",
       "│ 2000-01-06 ┆ AUSBYA1 ┆ -2.582    ┆ 1.172     ┆ … ┆ -0.902    ┆ 0.438     ┆ 0.641     ┆ 0.163     │\n",
       "│ 2000-01-06 ┆ AUSDCQ1 ┆ -0.172    ┆ -0.642    ┆ … ┆ -0.219    ┆ -2.387    ┆ -2.311    ┆ -0.287    │\n",
       "│ 2000-01-06 ┆ BELAM51 ┆ -1.126    ┆ -0.387    ┆ … ┆ 0.135     ┆ 1.789     ┆ 0.693     ┆ -0.277    │\n",
       "│ 2000-01-06 ┆ CANASK1 ┆ -2.58     ┆ -0.642    ┆ … ┆ -0.013    ┆ -2.814    ┆ -4.97     ┆ 1.409     │\n",
       "│ 2000-01-06 ┆ CANAUD1 ┆ -2.58     ┆ -0.642    ┆ … ┆ -1.019    ┆ 0.4       ┆ 0.68      ┆ 0.728     │\n",
       "│ …          ┆ …       ┆ …         ┆ …         ┆ … ┆ …         ┆ …         ┆ …         ┆ …         │\n",
       "│ 2000-01-06 ┆ USAZZF1 ┆ -1.141    ┆ -0.724    ┆ … ┆ 2.152     ┆ 2.743     ┆ -4.055    ┆ -0.507    │\n",
       "│ 2000-01-06 ┆ USAZZJ1 ┆ -1.194    ┆ -0.642    ┆ … ┆ 0.288     ┆ -0.234    ┆ -4.97     ┆ 1.214     │\n",
       "│ 2000-01-06 ┆ USAZZS1 ┆ -2.585    ┆ -0.642    ┆ … ┆ 0.475     ┆ 0.568     ┆ -2.439    ┆ 1.234     │\n",
       "│ 2000-01-06 ┆ USAZZT1 ┆ 0.087     ┆ -0.397    ┆ … ┆ 2.894     ┆ 1.587     ┆ -4.438    ┆ 2.473     │\n",
       "│ 2000-01-06 ┆ USAZZW1 ┆ -0.259    ┆ 0.093     ┆ … ┆ 0.858     ┆ -0.215    ┆ -3.656    ┆ 1.266     │\n",
       "└────────────┴─────────┴───────────┴───────────┴───┴───────────┴───────────┴───────────┴───────────┘"
      ]
     },
     "execution_count": 9,
     "metadata": {},
     "output_type": "execute_result"
    }
   ],
   "source": [
    "load_exposures_by_date(dt.date(2000, 1, 6)).select(['date', 'barrid'] + style_factors)"
   ]
  },
  {
   "cell_type": "code",
   "execution_count": 10,
   "id": "9737a473",
   "metadata": {},
   "outputs": [
    {
     "data": {
      "text/html": [
       "<div><style>\n",
       ".dataframe > thead > tr,\n",
       ".dataframe > tbody > tr {\n",
       "  text-align: right;\n",
       "  white-space: pre-wrap;\n",
       "}\n",
       "</style>\n",
       "<small>shape: (12_093, 18)</small><table border=\"1\" class=\"dataframe\"><thead><tr><th>date</th><th>barrid</th><th>USSLOWL_BETA</th><th>USSLOWL_DIVYILD</th><th>USSLOWL_EARNQLTY</th><th>USSLOWL_EARNYILD</th><th>USSLOWL_GROWTH</th><th>USSLOWL_LEVERAGE</th><th>USSLOWL_LTREVRSL</th><th>USSLOWL_MGMTQLTY</th><th>USSLOWL_MIDCAP</th><th>USSLOWL_MOMENTUM</th><th>USSLOWL_NETRET</th><th>USSLOWL_PROFIT</th><th>USSLOWL_PROSPECT</th><th>USSLOWL_RESVOL</th><th>USSLOWL_SIZE</th><th>USSLOWL_VALUE</th></tr><tr><td>date</td><td>str</td><td>f64</td><td>f64</td><td>f64</td><td>f64</td><td>f64</td><td>f64</td><td>f64</td><td>f64</td><td>f64</td><td>f64</td><td>f64</td><td>f64</td><td>f64</td><td>f64</td><td>f64</td><td>f64</td></tr></thead><tbody><tr><td>2000-01-07</td><td>&quot;AUSBYA1&quot;</td><td>-2.65</td><td>1.176</td><td>0.333</td><td>1.633</td><td>-0.526</td><td>0.134</td><td>0.898</td><td>0.8</td><td>-0.318</td><td>-0.509</td><td>null</td><td>0.393</td><td>-0.924</td><td>0.444</td><td>0.625</td><td>0.188</td></tr><tr><td>2000-01-07</td><td>&quot;AUSDCQ1&quot;</td><td>0.071</td><td>-0.637</td><td>0.353</td><td>-0.033</td><td>0.844</td><td>-0.409</td><td>0.775</td><td>-0.655</td><td>0.349</td><td>-0.608</td><td>null</td><td>0.382</td><td>-0.233</td><td>-2.459</td><td>-2.327</td><td>-0.283</td></tr><tr><td>2000-01-07</td><td>&quot;BELAM51&quot;</td><td>-1.469</td><td>-0.382</td><td>0.476</td><td>0.033</td><td>-0.328</td><td>0.13</td><td>-0.454</td><td>0.785</td><td>-0.36</td><td>0.082</td><td>0.019</td><td>0.198</td><td>0.073</td><td>2.015</td><td>0.694</td><td>-0.267</td></tr><tr><td>2000-01-07</td><td>&quot;CANASK1&quot;</td><td>-2.647</td><td>-0.637</td><td>-1.19</td><td>0.625</td><td>0.128</td><td>-0.409</td><td>2.512</td><td>-0.141</td><td>-2.795</td><td>-0.561</td><td>null</td><td>-0.79</td><td>0.016</td><td>-2.806</td><td>-4.982</td><td>1.407</td></tr><tr><td>2000-01-07</td><td>&quot;CANAUD1&quot;</td><td>-2.647</td><td>-0.637</td><td>0.323</td><td>2.115</td><td>-0.741</td><td>2.149</td><td>0.799</td><td>0.579</td><td>-0.358</td><td>-0.561</td><td>null</td><td>-0.381</td><td>-1.065</td><td>0.425</td><td>0.692</td><td>0.74</td></tr><tr><td>&hellip;</td><td>&hellip;</td><td>&hellip;</td><td>&hellip;</td><td>&hellip;</td><td>&hellip;</td><td>&hellip;</td><td>&hellip;</td><td>&hellip;</td><td>&hellip;</td><td>&hellip;</td><td>&hellip;</td><td>&hellip;</td><td>&hellip;</td><td>&hellip;</td><td>&hellip;</td><td>&hellip;</td><td>&hellip;</td></tr><tr><td>2000-01-07</td><td>&quot;USAZZF1&quot;</td><td>-1.347</td><td>-0.72</td><td>-2.223</td><td>-2.275</td><td>0.385</td><td>-0.714</td><td>1.389</td><td>-2.783</td><td>-2.795</td><td>-1.867</td><td>null</td><td>-0.48</td><td>2.138</td><td>2.722</td><td>-4.1</td><td>-0.502</td></tr><tr><td>2000-01-07</td><td>&quot;USAZZJ1&quot;</td><td>-1.343</td><td>-0.637</td><td>-1.925</td><td>-0.168</td><td>-0.445</td><td>-0.409</td><td>1.92</td><td>-0.245</td><td>-2.795</td><td>-1.431</td><td>null</td><td>-0.398</td><td>0.265</td><td>-0.173</td><td>-4.982</td><td>1.195</td></tr><tr><td>2000-01-07</td><td>&quot;USAZZS1&quot;</td><td>-2.39</td><td>-0.637</td><td>-0.146</td><td>-0.855</td><td>0.681</td><td>-0.548</td><td>0.135</td><td>-0.588</td><td>0.182</td><td>-1.388</td><td>null</td><td>-0.565</td><td>0.46</td><td>0.36</td><td>-2.45</td><td>1.263</td></tr><tr><td>2000-01-07</td><td>&quot;USAZZT1&quot;</td><td>0.462</td><td>-0.38</td><td>-1.542</td><td>2.657</td><td>-0.015</td><td>-0.409</td><td>-0.434</td><td>-0.075</td><td>-2.795</td><td>-1.736</td><td>null</td><td>0.496</td><td>2.886</td><td>1.355</td><td>-4.257</td><td>2.471</td></tr><tr><td>2000-01-07</td><td>&quot;USAZZW1&quot;</td><td>-0.517</td><td>0.098</td><td>-2.756</td><td>1.262</td><td>-0.543</td><td>-0.714</td><td>0.076</td><td>-1.694</td><td>-2.795</td><td>-1.567</td><td>null</td><td>0.256</td><td>0.843</td><td>-0.031</td><td>-3.65</td><td>1.166</td></tr></tbody></table></div>"
      ],
      "text/plain": [
       "shape: (12_093, 18)\n",
       "┌────────────┬─────────┬───────────┬───────────┬───┬───────────┬───────────┬───────────┬───────────┐\n",
       "│ date       ┆ barrid  ┆ USSLOWL_B ┆ USSLOWL_D ┆ … ┆ USSLOWL_P ┆ USSLOWL_R ┆ USSLOWL_S ┆ USSLOWL_V │\n",
       "│ ---        ┆ ---     ┆ ETA       ┆ IVYILD    ┆   ┆ ROSPECT   ┆ ESVOL     ┆ IZE       ┆ ALUE      │\n",
       "│ date       ┆ str     ┆ ---       ┆ ---       ┆   ┆ ---       ┆ ---       ┆ ---       ┆ ---       │\n",
       "│            ┆         ┆ f64       ┆ f64       ┆   ┆ f64       ┆ f64       ┆ f64       ┆ f64       │\n",
       "╞════════════╪═════════╪═══════════╪═══════════╪═══╪═══════════╪═══════════╪═══════════╪═══════════╡\n",
       "│ 2000-01-07 ┆ AUSBYA1 ┆ -2.65     ┆ 1.176     ┆ … ┆ -0.924    ┆ 0.444     ┆ 0.625     ┆ 0.188     │\n",
       "│ 2000-01-07 ┆ AUSDCQ1 ┆ 0.071     ┆ -0.637    ┆ … ┆ -0.233    ┆ -2.459    ┆ -2.327    ┆ -0.283    │\n",
       "│ 2000-01-07 ┆ BELAM51 ┆ -1.469    ┆ -0.382    ┆ … ┆ 0.073     ┆ 2.015     ┆ 0.694     ┆ -0.267    │\n",
       "│ 2000-01-07 ┆ CANASK1 ┆ -2.647    ┆ -0.637    ┆ … ┆ 0.016     ┆ -2.806    ┆ -4.982    ┆ 1.407     │\n",
       "│ 2000-01-07 ┆ CANAUD1 ┆ -2.647    ┆ -0.637    ┆ … ┆ -1.065    ┆ 0.425     ┆ 0.692     ┆ 0.74      │\n",
       "│ …          ┆ …       ┆ …         ┆ …         ┆ … ┆ …         ┆ …         ┆ …         ┆ …         │\n",
       "│ 2000-01-07 ┆ USAZZF1 ┆ -1.347    ┆ -0.72     ┆ … ┆ 2.138     ┆ 2.722     ┆ -4.1      ┆ -0.502    │\n",
       "│ 2000-01-07 ┆ USAZZJ1 ┆ -1.343    ┆ -0.637    ┆ … ┆ 0.265     ┆ -0.173    ┆ -4.982    ┆ 1.195     │\n",
       "│ 2000-01-07 ┆ USAZZS1 ┆ -2.39     ┆ -0.637    ┆ … ┆ 0.46      ┆ 0.36      ┆ -2.45     ┆ 1.263     │\n",
       "│ 2000-01-07 ┆ USAZZT1 ┆ 0.462     ┆ -0.38     ┆ … ┆ 2.886     ┆ 1.355     ┆ -4.257    ┆ 2.471     │\n",
       "│ 2000-01-07 ┆ USAZZW1 ┆ -0.517    ┆ 0.098     ┆ … ┆ 0.843     ┆ -0.031    ┆ -3.65     ┆ 1.166     │\n",
       "└────────────┴─────────┴───────────┴───────────┴───┴───────────┴───────────┴───────────┴───────────┘"
      ]
     },
     "execution_count": 10,
     "metadata": {},
     "output_type": "execute_result"
    }
   ],
   "source": [
    "load_exposures_by_date(dt.date(2000, 1, 7)).select(['date', 'barrid'] + style_factors)"
   ]
  },
  {
   "cell_type": "code",
   "execution_count": 11,
   "id": "51879df8",
   "metadata": {},
   "outputs": [
    {
     "data": {
      "text/html": [
       "<div><style>\n",
       ".dataframe > thead > tr,\n",
       ".dataframe > tbody > tr {\n",
       "  text-align: right;\n",
       "  white-space: pre-wrap;\n",
       "}\n",
       "</style>\n",
       "<small>shape: (77, 79)</small><table border=\"1\" class=\"dataframe\"><thead><tr><th>date</th><th>factor_1</th><th>USSLOWL_AERODEF</th><th>USSLOWL_AIRLINES</th><th>USSLOWL_ALUMSTEL</th><th>USSLOWL_APPAREL</th><th>USSLOWL_AUTO</th><th>USSLOWL_BANKS</th><th>USSLOWL_BETA</th><th>USSLOWL_BEVTOB</th><th>USSLOWL_BIOLIFE</th><th>USSLOWL_BLDGPROD</th><th>USSLOWL_CHEM</th><th>USSLOWL_CNSTENG</th><th>USSLOWL_CNSTMACH</th><th>USSLOWL_CNSTMATL</th><th>USSLOWL_COMMEQP</th><th>USSLOWL_COMPELEC</th><th>USSLOWL_COMSVCS</th><th>USSLOWL_CONGLOM</th><th>USSLOWL_CONTAINR</th><th>USSLOWL_COUNTRY</th><th>USSLOWL_DISTRIB</th><th>USSLOWL_DIVFIN</th><th>USSLOWL_DIVYILD</th><th>USSLOWL_EARNQLTY</th><th>USSLOWL_EARNYILD</th><th>USSLOWL_ELECEQP</th><th>USSLOWL_ELECUTIL</th><th>USSLOWL_FOODPROD</th><th>USSLOWL_FOODRET</th><th>USSLOWL_GASUTIL</th><th>USSLOWL_GROWTH</th><th>USSLOWL_HLTHEQP</th><th>USSLOWL_HLTHSVCS</th><th>USSLOWL_HOMEBLDG</th><th>USSLOWL_HOUSEDUR</th><th>&hellip;</th><th>USSLOWL_LEVERAGE</th><th>USSLOWL_LIFEINS</th><th>USSLOWL_LIQUIDTY</th><th>USSLOWL_LTREVRSL</th><th>USSLOWL_MEDIA</th><th>USSLOWL_MGDHLTH</th><th>USSLOWL_MGMTQLTY</th><th>USSLOWL_MIDCAP</th><th>USSLOWL_MOMENTUM</th><th>USSLOWL_MULTUTIL</th><th>USSLOWL_NETRET</th><th>USSLOWL_OILGSCON</th><th>USSLOWL_OILGSDRL</th><th>USSLOWL_OILGSEQP</th><th>USSLOWL_OILGSEXP</th><th>USSLOWL_PAPER</th><th>USSLOWL_PHARMA</th><th>USSLOWL_PRECMTLS</th><th>USSLOWL_PROFIT</th><th>USSLOWL_PROSPECT</th><th>USSLOWL_PSNLPROD</th><th>USSLOWL_REALEST</th><th>USSLOWL_RESTAUR</th><th>USSLOWL_RESVOL</th><th>USSLOWL_ROADRAIL</th><th>USSLOWL_SEMICOND</th><th>USSLOWL_SEMIEQP</th><th>USSLOWL_SIZE</th><th>USSLOWL_SOFTWARE</th><th>USSLOWL_SPLTYRET</th><th>USSLOWL_SPTYCHEM</th><th>USSLOWL_SPTYSTOR</th><th>USSLOWL_TELECOM</th><th>USSLOWL_TRADECO</th><th>USSLOWL_TRANSPRT</th><th>USSLOWL_VALUE</th><th>USSLOWL_WIRELESS</th></tr><tr><td>date</td><td>str</td><td>f64</td><td>f64</td><td>f64</td><td>f64</td><td>f64</td><td>f64</td><td>f64</td><td>f64</td><td>f64</td><td>f64</td><td>f64</td><td>f64</td><td>f64</td><td>f64</td><td>f64</td><td>f64</td><td>f64</td><td>f64</td><td>f64</td><td>f64</td><td>f64</td><td>f64</td><td>f64</td><td>f64</td><td>f64</td><td>f64</td><td>f64</td><td>f64</td><td>f64</td><td>f64</td><td>f64</td><td>f64</td><td>f64</td><td>f64</td><td>f64</td><td>&hellip;</td><td>f64</td><td>f64</td><td>f64</td><td>f64</td><td>f64</td><td>f64</td><td>f64</td><td>f64</td><td>f64</td><td>f64</td><td>f64</td><td>f64</td><td>f64</td><td>f64</td><td>f64</td><td>f64</td><td>f64</td><td>f64</td><td>f64</td><td>f64</td><td>f64</td><td>f64</td><td>f64</td><td>f64</td><td>f64</td><td>f64</td><td>f64</td><td>f64</td><td>f64</td><td>f64</td><td>f64</td><td>f64</td><td>f64</td><td>f64</td><td>f64</td><td>f64</td><td>f64</td></tr></thead><tbody><tr><td>2020-06-01</td><td>&quot;USSLOWL_AERODEF&quot;</td><td>291.686909</td><td>168.765986</td><td>null</td><td>62.359255</td><td>-13.536614</td><td>-13.681855</td><td>null</td><td>-9.378598</td><td>-34.637063</td><td>46.379704</td><td>null</td><td>30.543742</td><td>17.453697</td><td>null</td><td>-18.386187</td><td>-15.0064</td><td>4.4959361</td><td>66.1962</td><td>null</td><td>101.212589</td><td>-19.135063</td><td>8.291803</td><td>null</td><td>null</td><td>null</td><td>34.273142</td><td>5.020318</td><td>-43.841724</td><td>-35.083343</td><td>-53.312658</td><td>null</td><td>0.87504</td><td>-9.175637</td><td>108.397138</td><td>26.424527</td><td>&hellip;</td><td>null</td><td>58.448541</td><td>null</td><td>null</td><td>-0.532614</td><td>15.503818</td><td>null</td><td>null</td><td>null</td><td>-29.515597</td><td>-18.146703</td><td>null</td><td>null</td><td>null</td><td>null</td><td>null</td><td>-23.879184</td><td>null</td><td>null</td><td>null</td><td>-20.125502</td><td>18.62498</td><td>49.417466</td><td>null</td><td>23.808474</td><td>-41.530097</td><td>-14.113695</td><td>null</td><td>-18.040191</td><td>10.251024</td><td>null</td><td>35.860829</td><td>-31.746701</td><td>31.780566</td><td>-19.016149</td><td>null</td><td>-79.198701</td></tr><tr><td>2020-06-01</td><td>&quot;USSLOWL_AIRLINES&quot;</td><td>null</td><td>1066.21885</td><td>null</td><td>134.779816</td><td>78.432705</td><td>10.673013</td><td>null</td><td>8.79305</td><td>-58.58816</td><td>null</td><td>null</td><td>null</td><td>null</td><td>null</td><td>-28.113937</td><td>-3.005692</td><td>null</td><td>null</td><td>null</td><td>86.085836</td><td>5.358792</td><td>28.071227</td><td>null</td><td>null</td><td>null</td><td>null</td><td>20.403648</td><td>-59.870829</td><td>-57.386744</td><td>-59.553317</td><td>null</td><td>17.503486</td><td>21.983649</td><td>162.007926</td><td>83.181689</td><td>&hellip;</td><td>null</td><td>61.616133</td><td>null</td><td>null</td><td>2.929027</td><td>114.5629</td><td>null</td><td>null</td><td>null</td><td>-34.371172</td><td>-1.188113</td><td>null</td><td>null</td><td>null</td><td>null</td><td>null</td><td>-33.458149</td><td>null</td><td>null</td><td>null</td><td>-21.004848</td><td>70.209954</td><td>93.143089</td><td>null</td><td>48.482879</td><td>-39.147077</td><td>32.993895</td><td>null</td><td>-25.768959</td><td>73.925173</td><td>null</td><td>86.404651</td><td>-42.743259</td><td>null</td><td>34.060143</td><td>null</td><td>-135.908673</td></tr><tr><td>2020-06-01</td><td>&quot;USSLOWL_ALUMSTEL&quot;</td><td>28.782102</td><td>-8.874692</td><td>380.242911</td><td>-18.164561</td><td>1.056769</td><td>11.789006</td><td>null</td><td>-12.408787</td><td>-18.058146</td><td>9.320994</td><td>null</td><td>77.812419</td><td>98.271152</td><td>null</td><td>-27.786206</td><td>3.218904</td><td>8.382864</td><td>85.036426</td><td>null</td><td>19.655236</td><td>17.80724</td><td>-0.494995</td><td>null</td><td>null</td><td>null</td><td>51.374276</td><td>-36.577343</td><td>-4.098606</td><td>-5.136807</td><td>-7.892131</td><td>null</td><td>-22.360653</td><td>-17.439657</td><td>-67.865633</td><td>-12.821851</td><td>&hellip;</td><td>null</td><td>-15.463502</td><td>null</td><td>null</td><td>-12.14988</td><td>-19.220501</td><td>null</td><td>null</td><td>null</td><td>-12.697624</td><td>-24.628699</td><td>null</td><td>null</td><td>null</td><td>null</td><td>null</td><td>-14.436756</td><td>162.16769</td><td>null</td><td>null</td><td>-10.562194</td><td>-20.69784</td><td>-38.643366</td><td>null</td><td>30.673874</td><td>-6.091401</td><td>-5.193226</td><td>null</td><td>-28.278184</td><td>-35.81512</td><td>null</td><td>-0.233976</td><td>0.404945</td><td>45.767428</td><td>41.385994</td><td>null</td><td>16.868624</td></tr><tr><td>2020-06-01</td><td>&quot;USSLOWL_APPAREL&quot;</td><td>null</td><td>null</td><td>null</td><td>480.322148</td><td>null</td><td>-16.153442</td><td>null</td><td>0.295411</td><td>-59.850649</td><td>null</td><td>null</td><td>null</td><td>null</td><td>null</td><td>-32.017477</td><td>-10.557648</td><td>null</td><td>null</td><td>null</td><td>90.471031</td><td>null</td><td>8.572722</td><td>null</td><td>null</td><td>null</td><td>null</td><td>-35.028673</td><td>-57.729104</td><td>13.859437</td><td>-118.317426</td><td>null</td><td>-7.307761</td><td>2.061841</td><td>null</td><td>null</td><td>&hellip;</td><td>null</td><td>26.649662</td><td>null</td><td>null</td><td>null</td><td>-2.174935</td><td>null</td><td>null</td><td>null</td><td>-78.560401</td><td>null</td><td>null</td><td>null</td><td>null</td><td>null</td><td>null</td><td>-42.239286</td><td>null</td><td>null</td><td>null</td><td>-23.671859</td><td>41.631145</td><td>null</td><td>null</td><td>null</td><td>-52.06155</td><td>-28.090085</td><td>null</td><td>-37.173319</td><td>176.217698</td><td>null</td><td>220.648003</td><td>-49.924259</td><td>null</td><td>null</td><td>null</td><td>-63.130682</td></tr><tr><td>2020-06-01</td><td>&quot;USSLOWL_AUTO&quot;</td><td>null</td><td>null</td><td>null</td><td>91.066647</td><td>322.933864</td><td>-12.434805</td><td>null</td><td>-14.93727</td><td>-45.368557</td><td>null</td><td>null</td><td>null</td><td>null</td><td>null</td><td>1.0889164</td><td>35.202438</td><td>null</td><td>null</td><td>null</td><td>78.904349</td><td>35.723757</td><td>6.323971</td><td>null</td><td>null</td><td>null</td><td>null</td><td>-48.226789</td><td>-39.275657</td><td>-33.885018</td><td>-87.159657</td><td>null</td><td>-23.167707</td><td>-29.874137</td><td>124.072844</td><td>77.31864</td><td>&hellip;</td><td>null</td><td>17.715256</td><td>null</td><td>null</td><td>5.449431</td><td>-27.989192</td><td>null</td><td>null</td><td>null</td><td>-68.813233</td><td>23.884082</td><td>null</td><td>null</td><td>null</td><td>null</td><td>null</td><td>-43.022238</td><td>null</td><td>null</td><td>null</td><td>-19.534819</td><td>-7.360737</td><td>47.825364</td><td>null</td><td>null</td><td>28.411745</td><td>61.070819</td><td>null</td><td>-18.74437</td><td>89.087418</td><td>null</td><td>67.776809</td><td>-25.729705</td><td>null</td><td>null</td><td>null</td><td>-43.924354</td></tr><tr><td>&hellip;</td><td>&hellip;</td><td>&hellip;</td><td>&hellip;</td><td>&hellip;</td><td>&hellip;</td><td>&hellip;</td><td>&hellip;</td><td>&hellip;</td><td>&hellip;</td><td>&hellip;</td><td>&hellip;</td><td>&hellip;</td><td>&hellip;</td><td>&hellip;</td><td>&hellip;</td><td>&hellip;</td><td>&hellip;</td><td>&hellip;</td><td>&hellip;</td><td>&hellip;</td><td>&hellip;</td><td>&hellip;</td><td>&hellip;</td><td>&hellip;</td><td>&hellip;</td><td>&hellip;</td><td>&hellip;</td><td>&hellip;</td><td>&hellip;</td><td>&hellip;</td><td>&hellip;</td><td>&hellip;</td><td>&hellip;</td><td>&hellip;</td><td>&hellip;</td><td>&hellip;</td><td>&hellip;</td><td>&hellip;</td><td>&hellip;</td><td>&hellip;</td><td>&hellip;</td><td>&hellip;</td><td>&hellip;</td><td>&hellip;</td><td>&hellip;</td><td>&hellip;</td><td>&hellip;</td><td>&hellip;</td><td>&hellip;</td><td>&hellip;</td><td>&hellip;</td><td>&hellip;</td><td>&hellip;</td><td>&hellip;</td><td>&hellip;</td><td>&hellip;</td><td>&hellip;</td><td>&hellip;</td><td>&hellip;</td><td>&hellip;</td><td>&hellip;</td><td>&hellip;</td><td>&hellip;</td><td>&hellip;</td><td>&hellip;</td><td>&hellip;</td><td>&hellip;</td><td>&hellip;</td><td>&hellip;</td><td>&hellip;</td><td>&hellip;</td><td>&hellip;</td><td>&hellip;</td><td>&hellip;</td></tr><tr><td>2020-06-01</td><td>&quot;USSLOWL_TELECOM&quot;</td><td>null</td><td>null</td><td>null</td><td>null</td><td>null</td><td>null</td><td>null</td><td>null</td><td>null</td><td>null</td><td>null</td><td>null</td><td>null</td><td>null</td><td>null</td><td>null</td><td>null</td><td>null</td><td>null</td><td>-77.854174</td><td>null</td><td>null</td><td>null</td><td>null</td><td>null</td><td>null</td><td>12.046982</td><td>null</td><td>null</td><td>44.760938</td><td>null</td><td>null</td><td>null</td><td>null</td><td>null</td><td>&hellip;</td><td>null</td><td>null</td><td>null</td><td>null</td><td>null</td><td>null</td><td>null</td><td>null</td><td>null</td><td>32.775442</td><td>null</td><td>null</td><td>null</td><td>null</td><td>null</td><td>null</td><td>null</td><td>null</td><td>null</td><td>null</td><td>null</td><td>null</td><td>null</td><td>null</td><td>null</td><td>null</td><td>null</td><td>null</td><td>null</td><td>null</td><td>null</td><td>null</td><td>188.365212</td><td>null</td><td>null</td><td>null</td><td>58.35813</td></tr><tr><td>2020-06-01</td><td>&quot;USSLOWL_TRADECO&quot;</td><td>null</td><td>18.483734</td><td>null</td><td>26.575437</td><td>38.364273</td><td>22.835995</td><td>null</td><td>-12.459152</td><td>-17.687957</td><td>null</td><td>null</td><td>66.344043</td><td>null</td><td>null</td><td>-11.014702</td><td>4.926545</td><td>8.863144</td><td>46.929385</td><td>null</td><td>47.315695</td><td>16.541582</td><td>7.472412</td><td>null</td><td>null</td><td>null</td><td>48.424661</td><td>-39.600199</td><td>-19.016105</td><td>-2.41167</td><td>-41.750966</td><td>null</td><td>-23.729986</td><td>-10.32906</td><td>57.565443</td><td>22.015377</td><td>&hellip;</td><td>null</td><td>17.04942</td><td>null</td><td>null</td><td>-2.227468</td><td>-29.011832</td><td>null</td><td>null</td><td>null</td><td>-31.907115</td><td>-15.492933</td><td>null</td><td>null</td><td>null</td><td>null</td><td>null</td><td>-21.683576</td><td>null</td><td>null</td><td>null</td><td>-11.090623</td><td>-12.582622</td><td>11.147901</td><td>null</td><td>52.264322</td><td>2.04166</td><td>-5.083096</td><td>null</td><td>-29.91055</td><td>27.162492</td><td>null</td><td>21.256354</td><td>-10.86198</td><td>140.560484</td><td>37.913559</td><td>null</td><td>-26.763368</td></tr><tr><td>2020-06-01</td><td>&quot;USSLOWL_TRANSPRT&quot;</td><td>null</td><td>null</td><td>null</td><td>-15.922903</td><td>15.061494</td><td>35.157221</td><td>null</td><td>-19.20732</td><td>0.21283</td><td>null</td><td>null</td><td>null</td><td>null</td><td>null</td><td>22.023224</td><td>12.408033</td><td>null</td><td>null</td><td>null</td><td>-28.961698</td><td>26.501536</td><td>-6.933445</td><td>null</td><td>null</td><td>null</td><td>null</td><td>-35.48984</td><td>10.876201</td><td>37.350087</td><td>2.342741</td><td>null</td><td>-23.409244</td><td>3.980336</td><td>-61.910112</td><td>-3.693036</td><td>&hellip;</td><td>null</td><td>-11.89014</td><td>null</td><td>null</td><td>5.719999</td><td>-43.157033</td><td>null</td><td>null</td><td>null</td><td>-6.178055</td><td>-15.982144</td><td>null</td><td>null</td><td>null</td><td>null</td><td>null</td><td>-13.260742</td><td>null</td><td>null</td><td>null</td><td>1.069932</td><td>-44.196571</td><td>-8.646216</td><td>null</td><td>99.86115</td><td>34.09828</td><td>-6.723817</td><td>null</td><td>-7.351222</td><td>-8.520111</td><td>null</td><td>-2.450477</td><td>15.614813</td><td>null</td><td>240.967616</td><td>null</td><td>51.582765</td></tr><tr><td>2020-06-01</td><td>&quot;USSLOWL_VALUE&quot;</td><td>4.783221</td><td>4.486001</td><td>2.76571</td><td>4.4453291</td><td>2.393428</td><td>11.590557</td><td>null</td><td>1.222272</td><td>-6.914014</td><td>1.959998</td><td>4.249386</td><td>3.3045</td><td>2.62426</td><td>4.395049</td><td>-2.828197</td><td>-1.732807</td><td>4.622636</td><td>2.693843</td><td>2.580958</td><td>6.157533</td><td>2.2816329</td><td>2.597303</td><td>null</td><td>null</td><td>null</td><td>2.850186</td><td>-4.477521</td><td>-1.07319</td><td>-1.977712</td><td>-1.122003</td><td>null</td><td>-2.185333</td><td>-0.541058</td><td>-6.733869</td><td>-0.337893</td><td>&hellip;</td><td>null</td><td>2.279181</td><td>null</td><td>null</td><td>1.2054516</td><td>-4.661166</td><td>null</td><td>null</td><td>null</td><td>-2.226021</td><td>-1.919152</td><td>1.650309</td><td>29.781877</td><td>12.136512</td><td>9.942296</td><td>2.989885</td><td>-3.722727</td><td>-1.357114</td><td>null</td><td>null</td><td>-0.342132</td><td>1.3085794</td><td>-3.615641</td><td>null</td><td>-0.847703</td><td>-2.93022</td><td>-1.312124</td><td>null</td><td>-2.584603</td><td>-1.806182</td><td>3.017978</td><td>-0.146655</td><td>1.20981</td><td>1.413646</td><td>-0.27123</td><td>6.035214</td><td>2.212372</td></tr><tr><td>2020-06-01</td><td>&quot;USSLOWL_WIRELESS&quot;</td><td>null</td><td>null</td><td>null</td><td>null</td><td>null</td><td>null</td><td>null</td><td>null</td><td>null</td><td>null</td><td>null</td><td>null</td><td>null</td><td>null</td><td>null</td><td>null</td><td>null</td><td>null</td><td>null</td><td>-147.414717</td><td>null</td><td>null</td><td>null</td><td>null</td><td>null</td><td>null</td><td>8.06356</td><td>null</td><td>null</td><td>85.55528</td><td>null</td><td>null</td><td>null</td><td>null</td><td>null</td><td>&hellip;</td><td>null</td><td>null</td><td>null</td><td>null</td><td>null</td><td>null</td><td>null</td><td>null</td><td>null</td><td>59.059269</td><td>null</td><td>null</td><td>null</td><td>null</td><td>null</td><td>null</td><td>null</td><td>null</td><td>null</td><td>null</td><td>null</td><td>null</td><td>null</td><td>null</td><td>null</td><td>null</td><td>null</td><td>null</td><td>null</td><td>null</td><td>null</td><td>null</td><td>null</td><td>null</td><td>null</td><td>null</td><td>757.42139</td></tr></tbody></table></div>"
      ],
      "text/plain": [
       "shape: (77, 79)\n",
       "┌───────────┬───────────┬───────────┬───────────┬───┬───────────┬───────────┬───────────┬──────────┐\n",
       "│ date      ┆ factor_1  ┆ USSLOWL_A ┆ USSLOWL_A ┆ … ┆ USSLOWL_T ┆ USSLOWL_T ┆ USSLOWL_V ┆ USSLOWL_ │\n",
       "│ ---       ┆ ---       ┆ ERODEF    ┆ IRLINES   ┆   ┆ RADECO    ┆ RANSPRT   ┆ ALUE      ┆ WIRELESS │\n",
       "│ date      ┆ str       ┆ ---       ┆ ---       ┆   ┆ ---       ┆ ---       ┆ ---       ┆ ---      │\n",
       "│           ┆           ┆ f64       ┆ f64       ┆   ┆ f64       ┆ f64       ┆ f64       ┆ f64      │\n",
       "╞═══════════╪═══════════╪═══════════╪═══════════╪═══╪═══════════╪═══════════╪═══════════╪══════════╡\n",
       "│ 2020-06-0 ┆ USSLOWL_A ┆ 291.68690 ┆ 168.76598 ┆ … ┆ 31.780566 ┆ -19.01614 ┆ null      ┆ -79.1987 │\n",
       "│ 1         ┆ ERODEF    ┆ 9         ┆ 6         ┆   ┆           ┆ 9         ┆           ┆ 01       │\n",
       "│ 2020-06-0 ┆ USSLOWL_A ┆ null      ┆ 1066.2188 ┆ … ┆ null      ┆ 34.060143 ┆ null      ┆ -135.908 │\n",
       "│ 1         ┆ IRLINES   ┆           ┆ 5         ┆   ┆           ┆           ┆           ┆ 673      │\n",
       "│ 2020-06-0 ┆ USSLOWL_A ┆ 28.782102 ┆ -8.874692 ┆ … ┆ 45.767428 ┆ 41.385994 ┆ null      ┆ 16.86862 │\n",
       "│ 1         ┆ LUMSTEL   ┆           ┆           ┆   ┆           ┆           ┆           ┆ 4        │\n",
       "│ 2020-06-0 ┆ USSLOWL_A ┆ null      ┆ null      ┆ … ┆ null      ┆ null      ┆ null      ┆ -63.1306 │\n",
       "│ 1         ┆ PPAREL    ┆           ┆           ┆   ┆           ┆           ┆           ┆ 82       │\n",
       "│ 2020-06-0 ┆ USSLOWL_A ┆ null      ┆ null      ┆ … ┆ null      ┆ null      ┆ null      ┆ -43.9243 │\n",
       "│ 1         ┆ UTO       ┆           ┆           ┆   ┆           ┆           ┆           ┆ 54       │\n",
       "│ …         ┆ …         ┆ …         ┆ …         ┆ … ┆ …         ┆ …         ┆ …         ┆ …        │\n",
       "│ 2020-06-0 ┆ USSLOWL_T ┆ null      ┆ null      ┆ … ┆ null      ┆ null      ┆ null      ┆ 58.35813 │\n",
       "│ 1         ┆ ELECOM    ┆           ┆           ┆   ┆           ┆           ┆           ┆          │\n",
       "│ 2020-06-0 ┆ USSLOWL_T ┆ null      ┆ 18.483734 ┆ … ┆ 140.56048 ┆ 37.913559 ┆ null      ┆ -26.7633 │\n",
       "│ 1         ┆ RADECO    ┆           ┆           ┆   ┆ 4         ┆           ┆           ┆ 68       │\n",
       "│ 2020-06-0 ┆ USSLOWL_T ┆ null      ┆ null      ┆ … ┆ null      ┆ 240.96761 ┆ null      ┆ 51.58276 │\n",
       "│ 1         ┆ RANSPRT   ┆           ┆           ┆   ┆           ┆ 6         ┆           ┆ 5        │\n",
       "│ 2020-06-0 ┆ USSLOWL_V ┆ 4.783221  ┆ 4.486001  ┆ … ┆ 1.413646  ┆ -0.27123  ┆ 6.035214  ┆ 2.212372 │\n",
       "│ 1         ┆ ALUE      ┆           ┆           ┆   ┆           ┆           ┆           ┆          │\n",
       "│ 2020-06-0 ┆ USSLOWL_W ┆ null      ┆ null      ┆ … ┆ null      ┆ null      ┆ null      ┆ 757.4213 │\n",
       "│ 1         ┆ IRELESS   ┆           ┆           ┆   ┆           ┆           ┆           ┆ 9        │\n",
       "└───────────┴───────────┴───────────┴───────────┴───┴───────────┴───────────┴───────────┴──────────┘"
      ]
     },
     "execution_count": 11,
     "metadata": {},
     "output_type": "execute_result"
    }
   ],
   "source": [
    "sf.data.covariances.load_covariances_by_date(dt.date(2020,6,1))"
   ]
  },
  {
   "cell_type": "code",
   "execution_count": null,
   "id": "e7b05431",
   "metadata": {},
   "outputs": [],
   "source": []
  }
 ],
 "metadata": {
  "kernelspec": {
   "display_name": "factor-momentum",
   "language": "python",
   "name": "python3"
  },
  "language_info": {
   "codemirror_mode": {
    "name": "ipython",
    "version": 3
   },
   "file_extension": ".py",
   "mimetype": "text/x-python",
   "name": "python",
   "nbconvert_exporter": "python",
   "pygments_lexer": "ipython3",
   "version": "3.11.11"
  }
 },
 "nbformat": 4,
 "nbformat_minor": 5
}
