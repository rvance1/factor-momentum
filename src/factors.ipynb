{
 "cells": [
  {
   "cell_type": "code",
   "execution_count": 1,
   "id": "a87a45ba",
   "metadata": {},
   "outputs": [
    {
     "name": "stderr",
     "output_type": "stream",
     "text": [
      "/home/boobus/projects/factor_momentum/.venv/lib/python3.11/site-packages/tqdm/auto.py:21: TqdmWarning: IProgress not found. Please update jupyter and ipywidgets. See https://ipywidgets.readthedocs.io/en/stable/user_install.html\n",
      "  from .autonotebook import tqdm as notebook_tqdm\n",
      "2025-09-26 17:25:18,388\tINFO util.py:154 -- Missing packages: ['ipywidgets']. Run `pip install -U ipywidgets`, then restart the notebook server for rich notebook output.\n"
     ]
    }
   ],
   "source": [
    "import sf_quant as sf\n",
    "import polars as pl\n",
    "import datetime as dt\n",
    "\n",
    "import matplotlib.pyplot as plt\n",
    "\n",
    "import os\n",
    "from dotenv import load_dotenv"
   ]
  },
  {
   "cell_type": "code",
   "execution_count": 2,
   "id": "95332294",
   "metadata": {},
   "outputs": [
    {
     "name": "stderr",
     "output_type": "stream",
     "text": [
      "/tmp/ipykernel_1792470/3412504384.py:3: DeprecationWarning: `DataFrame.melt` is deprecated; use `DataFrame.unpivot` instead, with `index` instead of `id_vars` and `on` instead of `value_vars`\n",
      "  factor_returns = pl.read_parquet(factor_path).melt(id_vars='date', variable_name='factor', value_name='ret')\n"
     ]
    },
    {
     "data": {
      "text/html": [
       "<div><style>\n",
       ".dataframe > thead > tr,\n",
       ".dataframe > tbody > tr {\n",
       "  text-align: right;\n",
       "  white-space: pre-wrap;\n",
       "}\n",
       "</style>\n",
       "<small>shape: (585_354, 3)</small><table border=\"1\" class=\"dataframe\"><thead><tr><th>date</th><th>factor</th><th>ret</th></tr><tr><td>date</td><td>str</td><td>f64</td></tr></thead><tbody><tr><td>1995-06-30</td><td>&quot;USSLOWL_AERODEF&quot;</td><td>0.014816</td></tr><tr><td>1995-07-03</td><td>&quot;USSLOWL_AERODEF&quot;</td><td>-0.534163</td></tr><tr><td>1995-07-05</td><td>&quot;USSLOWL_AERODEF&quot;</td><td>-0.035338</td></tr><tr><td>1995-07-06</td><td>&quot;USSLOWL_AERODEF&quot;</td><td>-0.134558</td></tr><tr><td>1995-07-07</td><td>&quot;USSLOWL_AERODEF&quot;</td><td>0.2649769</td></tr><tr><td>&hellip;</td><td>&hellip;</td><td>&hellip;</td></tr><tr><td>2025-09-09</td><td>&quot;USSLOWL_WIRELESS&quot;</td><td>-0.158258</td></tr><tr><td>2025-09-10</td><td>&quot;USSLOWL_WIRELESS&quot;</td><td>-1.219652</td></tr><tr><td>2025-09-11</td><td>&quot;USSLOWL_WIRELESS&quot;</td><td>-0.285465</td></tr><tr><td>2025-09-12</td><td>&quot;USSLOWL_WIRELESS&quot;</td><td>0.2881327</td></tr><tr><td>2025-09-15</td><td>&quot;USSLOWL_WIRELESS&quot;</td><td>-0.599989</td></tr></tbody></table></div>"
      ],
      "text/plain": [
       "shape: (585_354, 3)\n",
       "┌────────────┬──────────────────┬───────────┐\n",
       "│ date       ┆ factor           ┆ ret       │\n",
       "│ ---        ┆ ---              ┆ ---       │\n",
       "│ date       ┆ str              ┆ f64       │\n",
       "╞════════════╪══════════════════╪═══════════╡\n",
       "│ 1995-06-30 ┆ USSLOWL_AERODEF  ┆ 0.014816  │\n",
       "│ 1995-07-03 ┆ USSLOWL_AERODEF  ┆ -0.534163 │\n",
       "│ 1995-07-05 ┆ USSLOWL_AERODEF  ┆ -0.035338 │\n",
       "│ 1995-07-06 ┆ USSLOWL_AERODEF  ┆ -0.134558 │\n",
       "│ 1995-07-07 ┆ USSLOWL_AERODEF  ┆ 0.2649769 │\n",
       "│ …          ┆ …                ┆ …         │\n",
       "│ 2025-09-09 ┆ USSLOWL_WIRELESS ┆ -0.158258 │\n",
       "│ 2025-09-10 ┆ USSLOWL_WIRELESS ┆ -1.219652 │\n",
       "│ 2025-09-11 ┆ USSLOWL_WIRELESS ┆ -0.285465 │\n",
       "│ 2025-09-12 ┆ USSLOWL_WIRELESS ┆ 0.2881327 │\n",
       "│ 2025-09-15 ┆ USSLOWL_WIRELESS ┆ -0.599989 │\n",
       "└────────────┴──────────────────┴───────────┘"
      ]
     },
     "execution_count": 2,
     "metadata": {},
     "output_type": "execute_result"
    }
   ],
   "source": [
    "load_dotenv()\n",
    "factor_path = os.getenv(\"FACTOR_TABLE\")\n",
    "factor_returns = pl.read_parquet(factor_path).melt(id_vars='date', variable_name='factor', value_name='ret')\n",
    "factor_returns"
   ]
  },
  {
   "cell_type": "code",
   "execution_count": 3,
   "id": "30c9c154",
   "metadata": {},
   "outputs": [
    {
     "data": {
      "text/html": [
       "<div><style>\n",
       ".dataframe > thead > tr,\n",
       ".dataframe > tbody > tr {\n",
       "  text-align: right;\n",
       "  white-space: pre-wrap;\n",
       "}\n",
       "</style>\n",
       "<small>shape: (585_354, 4)</small><table border=\"1\" class=\"dataframe\"><thead><tr><th>date</th><th>factor</th><th>ret</th><th>lag_ret</th></tr><tr><td>date</td><td>str</td><td>f64</td><td>f64</td></tr></thead><tbody><tr><td>1995-06-30</td><td>&quot;USSLOWL_AERODEF&quot;</td><td>0.014816</td><td>null</td></tr><tr><td>1995-07-03</td><td>&quot;USSLOWL_AERODEF&quot;</td><td>-0.534163</td><td>0.014816</td></tr><tr><td>1995-07-05</td><td>&quot;USSLOWL_AERODEF&quot;</td><td>-0.035338</td><td>-0.534163</td></tr><tr><td>1995-07-06</td><td>&quot;USSLOWL_AERODEF&quot;</td><td>-0.134558</td><td>-0.035338</td></tr><tr><td>1995-07-07</td><td>&quot;USSLOWL_AERODEF&quot;</td><td>0.2649769</td><td>-0.134558</td></tr><tr><td>&hellip;</td><td>&hellip;</td><td>&hellip;</td><td>&hellip;</td></tr><tr><td>2025-09-09</td><td>&quot;USSLOWL_WIRELESS&quot;</td><td>-0.158258</td><td>-1.537404</td></tr><tr><td>2025-09-10</td><td>&quot;USSLOWL_WIRELESS&quot;</td><td>-1.219652</td><td>-0.158258</td></tr><tr><td>2025-09-11</td><td>&quot;USSLOWL_WIRELESS&quot;</td><td>-0.285465</td><td>-1.219652</td></tr><tr><td>2025-09-12</td><td>&quot;USSLOWL_WIRELESS&quot;</td><td>0.2881327</td><td>-0.285465</td></tr><tr><td>2025-09-15</td><td>&quot;USSLOWL_WIRELESS&quot;</td><td>-0.599989</td><td>0.2881327</td></tr></tbody></table></div>"
      ],
      "text/plain": [
       "shape: (585_354, 4)\n",
       "┌────────────┬──────────────────┬───────────┬───────────┐\n",
       "│ date       ┆ factor           ┆ ret       ┆ lag_ret   │\n",
       "│ ---        ┆ ---              ┆ ---       ┆ ---       │\n",
       "│ date       ┆ str              ┆ f64       ┆ f64       │\n",
       "╞════════════╪══════════════════╪═══════════╪═══════════╡\n",
       "│ 1995-06-30 ┆ USSLOWL_AERODEF  ┆ 0.014816  ┆ null      │\n",
       "│ 1995-07-03 ┆ USSLOWL_AERODEF  ┆ -0.534163 ┆ 0.014816  │\n",
       "│ 1995-07-05 ┆ USSLOWL_AERODEF  ┆ -0.035338 ┆ -0.534163 │\n",
       "│ 1995-07-06 ┆ USSLOWL_AERODEF  ┆ -0.134558 ┆ -0.035338 │\n",
       "│ 1995-07-07 ┆ USSLOWL_AERODEF  ┆ 0.2649769 ┆ -0.134558 │\n",
       "│ …          ┆ …                ┆ …         ┆ …         │\n",
       "│ 2025-09-09 ┆ USSLOWL_WIRELESS ┆ -0.158258 ┆ -1.537404 │\n",
       "│ 2025-09-10 ┆ USSLOWL_WIRELESS ┆ -1.219652 ┆ -0.158258 │\n",
       "│ 2025-09-11 ┆ USSLOWL_WIRELESS ┆ -0.285465 ┆ -1.219652 │\n",
       "│ 2025-09-12 ┆ USSLOWL_WIRELESS ┆ 0.2881327 ┆ -0.285465 │\n",
       "│ 2025-09-15 ┆ USSLOWL_WIRELESS ┆ -0.599989 ┆ 0.2881327 │\n",
       "└────────────┴──────────────────┴───────────┴───────────┘"
      ]
     },
     "execution_count": 3,
     "metadata": {},
     "output_type": "execute_result"
    }
   ],
   "source": [
    "factor_returns = factor_returns.sort(['factor', 'date']).with_columns(\n",
    "    pl.col('ret').shift(1).over('factor').alias('lag_ret')\n",
    ")\n",
    "factor_returns"
   ]
  },
  {
   "cell_type": "code",
   "execution_count": null,
   "id": "530cb7d3",
   "metadata": {},
   "outputs": [
    {
     "data": {
      "text/html": [
       "<div><style>\n",
       ".dataframe > thead > tr,\n",
       ".dataframe > tbody > tr {\n",
       "  text-align: right;\n",
       "  white-space: pre-wrap;\n",
       "}\n",
       "</style>\n",
       "<small>shape: (585_354, 6)</small><table border=\"1\" class=\"dataframe\"><thead><tr><th>date</th><th>factor</th><th>ret</th><th>lag_ret</th><th>rank</th><th>count</th></tr><tr><td>date</td><td>str</td><td>f64</td><td>f64</td><td>u32</td><td>u32</td></tr></thead><tbody><tr><td>1995-06-30</td><td>&quot;USSLOWL_AERODEF&quot;</td><td>0.014816</td><td>null</td><td>null</td><td>0</td></tr><tr><td>1995-07-03</td><td>&quot;USSLOWL_AERODEF&quot;</td><td>-0.534163</td><td>0.014816</td><td>35</td><td>77</td></tr><tr><td>1995-07-05</td><td>&quot;USSLOWL_AERODEF&quot;</td><td>-0.035338</td><td>-0.534163</td><td>5</td><td>77</td></tr><tr><td>1995-07-06</td><td>&quot;USSLOWL_AERODEF&quot;</td><td>-0.134558</td><td>-0.035338</td><td>32</td><td>77</td></tr><tr><td>1995-07-07</td><td>&quot;USSLOWL_AERODEF&quot;</td><td>0.2649769</td><td>-0.134558</td><td>26</td><td>77</td></tr><tr><td>&hellip;</td><td>&hellip;</td><td>&hellip;</td><td>&hellip;</td><td>&hellip;</td><td>&hellip;</td></tr><tr><td>2025-09-09</td><td>&quot;USSLOWL_WIRELESS&quot;</td><td>-0.158258</td><td>-1.537404</td><td>1</td><td>76</td></tr><tr><td>2025-09-10</td><td>&quot;USSLOWL_WIRELESS&quot;</td><td>-1.219652</td><td>-0.158258</td><td>33</td><td>76</td></tr><tr><td>2025-09-11</td><td>&quot;USSLOWL_WIRELESS&quot;</td><td>-0.285465</td><td>-1.219652</td><td>4</td><td>76</td></tr><tr><td>2025-09-12</td><td>&quot;USSLOWL_WIRELESS&quot;</td><td>0.2881327</td><td>-0.285465</td><td>14</td><td>76</td></tr><tr><td>2025-09-15</td><td>&quot;USSLOWL_WIRELESS&quot;</td><td>-0.599989</td><td>0.2881327</td><td>56</td><td>76</td></tr></tbody></table></div>"
      ],
      "text/plain": [
       "shape: (585_354, 6)\n",
       "┌────────────┬──────────────────┬───────────┬───────────┬──────┬───────┐\n",
       "│ date       ┆ factor           ┆ ret       ┆ lag_ret   ┆ rank ┆ count │\n",
       "│ ---        ┆ ---              ┆ ---       ┆ ---       ┆ ---  ┆ ---   │\n",
       "│ date       ┆ str              ┆ f64       ┆ f64       ┆ u32  ┆ u32   │\n",
       "╞════════════╪══════════════════╪═══════════╪═══════════╪══════╪═══════╡\n",
       "│ 1995-06-30 ┆ USSLOWL_AERODEF  ┆ 0.014816  ┆ null      ┆ null ┆ 0     │\n",
       "│ 1995-07-03 ┆ USSLOWL_AERODEF  ┆ -0.534163 ┆ 0.014816  ┆ 35   ┆ 77    │\n",
       "│ 1995-07-05 ┆ USSLOWL_AERODEF  ┆ -0.035338 ┆ -0.534163 ┆ 5    ┆ 77    │\n",
       "│ 1995-07-06 ┆ USSLOWL_AERODEF  ┆ -0.134558 ┆ -0.035338 ┆ 32   ┆ 77    │\n",
       "│ 1995-07-07 ┆ USSLOWL_AERODEF  ┆ 0.2649769 ┆ -0.134558 ┆ 26   ┆ 77    │\n",
       "│ …          ┆ …                ┆ …         ┆ …         ┆ …    ┆ …     │\n",
       "│ 2025-09-09 ┆ USSLOWL_WIRELESS ┆ -0.158258 ┆ -1.537404 ┆ 1    ┆ 76    │\n",
       "│ 2025-09-10 ┆ USSLOWL_WIRELESS ┆ -1.219652 ┆ -0.158258 ┆ 33   ┆ 76    │\n",
       "│ 2025-09-11 ┆ USSLOWL_WIRELESS ┆ -0.285465 ┆ -1.219652 ┆ 4    ┆ 76    │\n",
       "│ 2025-09-12 ┆ USSLOWL_WIRELESS ┆ 0.2881327 ┆ -0.285465 ┆ 14   ┆ 76    │\n",
       "│ 2025-09-15 ┆ USSLOWL_WIRELESS ┆ -0.599989 ┆ 0.2881327 ┆ 56   ┆ 76    │\n",
       "└────────────┴──────────────────┴───────────┴───────────┴──────┴───────┘"
      ]
     },
     "execution_count": 4,
     "metadata": {},
     "output_type": "execute_result"
    }
   ],
   "source": [
    "factor_returns = (factor_returns.with_columns(\n",
    "    pl.col(\"lag_ret\").rank('dense').over('date').alias('rank'),\n",
    "    pl.col('lag_ret').count().over('date').alias('count')\n",
    "))\n",
    "factor_returns"
   ]
  },
  {
   "cell_type": "code",
   "execution_count": 5,
   "id": "7b4294ac",
   "metadata": {},
   "outputs": [
    {
     "data": {
      "text/html": [
       "<div><style>\n",
       ".dataframe > thead > tr,\n",
       ".dataframe > tbody > tr {\n",
       "  text-align: right;\n",
       "  white-space: pre-wrap;\n",
       "}\n",
       "</style>\n",
       "<small>shape: (585_354, 7)</small><table border=\"1\" class=\"dataframe\"><thead><tr><th>date</th><th>factor</th><th>ret</th><th>lag_ret</th><th>rank</th><th>count</th><th>signal</th></tr><tr><td>date</td><td>str</td><td>f64</td><td>f64</td><td>u32</td><td>u32</td><td>i32</td></tr></thead><tbody><tr><td>1995-06-30</td><td>&quot;USSLOWL_AERODEF&quot;</td><td>0.014816</td><td>null</td><td>null</td><td>0</td><td>-1</td></tr><tr><td>1995-07-03</td><td>&quot;USSLOWL_AERODEF&quot;</td><td>-0.534163</td><td>0.014816</td><td>35</td><td>77</td><td>-1</td></tr><tr><td>1995-07-05</td><td>&quot;USSLOWL_AERODEF&quot;</td><td>-0.035338</td><td>-0.534163</td><td>5</td><td>77</td><td>-1</td></tr><tr><td>1995-07-06</td><td>&quot;USSLOWL_AERODEF&quot;</td><td>-0.134558</td><td>-0.035338</td><td>32</td><td>77</td><td>-1</td></tr><tr><td>1995-07-07</td><td>&quot;USSLOWL_AERODEF&quot;</td><td>0.2649769</td><td>-0.134558</td><td>26</td><td>77</td><td>-1</td></tr><tr><td>&hellip;</td><td>&hellip;</td><td>&hellip;</td><td>&hellip;</td><td>&hellip;</td><td>&hellip;</td><td>&hellip;</td></tr><tr><td>2025-09-09</td><td>&quot;USSLOWL_WIRELESS&quot;</td><td>-0.158258</td><td>-1.537404</td><td>1</td><td>76</td><td>-1</td></tr><tr><td>2025-09-10</td><td>&quot;USSLOWL_WIRELESS&quot;</td><td>-1.219652</td><td>-0.158258</td><td>33</td><td>76</td><td>-1</td></tr><tr><td>2025-09-11</td><td>&quot;USSLOWL_WIRELESS&quot;</td><td>-0.285465</td><td>-1.219652</td><td>4</td><td>76</td><td>-1</td></tr><tr><td>2025-09-12</td><td>&quot;USSLOWL_WIRELESS&quot;</td><td>0.2881327</td><td>-0.285465</td><td>14</td><td>76</td><td>-1</td></tr><tr><td>2025-09-15</td><td>&quot;USSLOWL_WIRELESS&quot;</td><td>-0.599989</td><td>0.2881327</td><td>56</td><td>76</td><td>1</td></tr></tbody></table></div>"
      ],
      "text/plain": [
       "shape: (585_354, 7)\n",
       "┌────────────┬──────────────────┬───────────┬───────────┬──────┬───────┬────────┐\n",
       "│ date       ┆ factor           ┆ ret       ┆ lag_ret   ┆ rank ┆ count ┆ signal │\n",
       "│ ---        ┆ ---              ┆ ---       ┆ ---       ┆ ---  ┆ ---   ┆ ---    │\n",
       "│ date       ┆ str              ┆ f64       ┆ f64       ┆ u32  ┆ u32   ┆ i32    │\n",
       "╞════════════╪══════════════════╪═══════════╪═══════════╪══════╪═══════╪════════╡\n",
       "│ 1995-06-30 ┆ USSLOWL_AERODEF  ┆ 0.014816  ┆ null      ┆ null ┆ 0     ┆ -1     │\n",
       "│ 1995-07-03 ┆ USSLOWL_AERODEF  ┆ -0.534163 ┆ 0.014816  ┆ 35   ┆ 77    ┆ -1     │\n",
       "│ 1995-07-05 ┆ USSLOWL_AERODEF  ┆ -0.035338 ┆ -0.534163 ┆ 5    ┆ 77    ┆ -1     │\n",
       "│ 1995-07-06 ┆ USSLOWL_AERODEF  ┆ -0.134558 ┆ -0.035338 ┆ 32   ┆ 77    ┆ -1     │\n",
       "│ 1995-07-07 ┆ USSLOWL_AERODEF  ┆ 0.2649769 ┆ -0.134558 ┆ 26   ┆ 77    ┆ -1     │\n",
       "│ …          ┆ …                ┆ …         ┆ …         ┆ …    ┆ …     ┆ …      │\n",
       "│ 2025-09-09 ┆ USSLOWL_WIRELESS ┆ -0.158258 ┆ -1.537404 ┆ 1    ┆ 76    ┆ -1     │\n",
       "│ 2025-09-10 ┆ USSLOWL_WIRELESS ┆ -1.219652 ┆ -0.158258 ┆ 33   ┆ 76    ┆ -1     │\n",
       "│ 2025-09-11 ┆ USSLOWL_WIRELESS ┆ -0.285465 ┆ -1.219652 ┆ 4    ┆ 76    ┆ -1     │\n",
       "│ 2025-09-12 ┆ USSLOWL_WIRELESS ┆ 0.2881327 ┆ -0.285465 ┆ 14   ┆ 76    ┆ -1     │\n",
       "│ 2025-09-15 ┆ USSLOWL_WIRELESS ┆ -0.599989 ┆ 0.2881327 ┆ 56   ┆ 76    ┆ 1      │\n",
       "└────────────┴──────────────────┴───────────┴───────────┴──────┴───────┴────────┘"
      ]
     },
     "execution_count": 5,
     "metadata": {},
     "output_type": "execute_result"
    }
   ],
   "source": [
    "factor_returns = (factor_returns.with_columns(\n",
    "    pl.when(pl.col('rank') >= pl.col('count')/2)\n",
    "    .then(1)\n",
    "    .otherwise(-1)\n",
    "    .alias('signal')\n",
    "))\n",
    "factor_returns"
   ]
  },
  {
   "cell_type": "code",
   "execution_count": 10,
   "id": "345948b4",
   "metadata": {},
   "outputs": [
    {
     "data": {
      "text/html": [
       "<div><style>\n",
       ".dataframe > thead > tr,\n",
       ".dataframe > tbody > tr {\n",
       "  text-align: right;\n",
       "  white-space: pre-wrap;\n",
       "}\n",
       "</style>\n",
       "<small>shape: (7_601, 3)</small><table border=\"1\" class=\"dataframe\"><thead><tr><th>date</th><th>-1</th><th>1</th></tr><tr><td>date</td><td>f64</td><td>f64</td></tr></thead><tbody><tr><td>1995-07-03</td><td>-0.051201</td><td>0.038668</td></tr><tr><td>1995-07-05</td><td>0.047922</td><td>0.300512</td></tr><tr><td>1995-07-06</td><td>0.063506</td><td>0.153767</td></tr><tr><td>1995-07-07</td><td>-0.092409</td><td>0.420489</td></tr><tr><td>1995-07-10</td><td>-0.26641</td><td>0.283483</td></tr><tr><td>&hellip;</td><td>&hellip;</td><td>&hellip;</td></tr><tr><td>2025-09-09</td><td>-0.407913</td><td>-0.275236</td></tr><tr><td>2025-09-10</td><td>0.364306</td><td>0.060137</td></tr><tr><td>2025-09-11</td><td>0.188257</td><td>0.129127</td></tr><tr><td>2025-09-12</td><td>-0.137247</td><td>-0.094379</td></tr><tr><td>2025-09-15</td><td>-0.062728</td><td>-0.017644</td></tr></tbody></table></div>"
      ],
      "text/plain": [
       "shape: (7_601, 3)\n",
       "┌────────────┬───────────┬───────────┐\n",
       "│ date       ┆ -1        ┆ 1         │\n",
       "│ ---        ┆ ---       ┆ ---       │\n",
       "│ date       ┆ f64       ┆ f64       │\n",
       "╞════════════╪═══════════╪═══════════╡\n",
       "│ 1995-07-03 ┆ -0.051201 ┆ 0.038668  │\n",
       "│ 1995-07-05 ┆ 0.047922  ┆ 0.300512  │\n",
       "│ 1995-07-06 ┆ 0.063506  ┆ 0.153767  │\n",
       "│ 1995-07-07 ┆ -0.092409 ┆ 0.420489  │\n",
       "│ 1995-07-10 ┆ -0.26641  ┆ 0.283483  │\n",
       "│ …          ┆ …         ┆ …         │\n",
       "│ 2025-09-09 ┆ -0.407913 ┆ -0.275236 │\n",
       "│ 2025-09-10 ┆ 0.364306  ┆ 0.060137  │\n",
       "│ 2025-09-11 ┆ 0.188257  ┆ 0.129127  │\n",
       "│ 2025-09-12 ┆ -0.137247 ┆ -0.094379 │\n",
       "│ 2025-09-15 ┆ -0.062728 ┆ -0.017644 │\n",
       "└────────────┴───────────┴───────────┘"
      ]
     },
     "execution_count": 10,
     "metadata": {},
     "output_type": "execute_result"
    }
   ],
   "source": [
    "port = (factor_returns.group_by(['date', 'signal'])\n",
    "        .agg(pl.col('ret').mean().alias('mean_ret'))\n",
    "        .sort(['signal', 'date'])\n",
    "        .pivot(on='signal', index='date', values='mean_ret')\n",
    "        .drop_nulls()\n",
    "        )\n",
    "port"
   ]
  },
  {
   "cell_type": "code",
   "execution_count": 14,
   "id": "ee4629f1",
   "metadata": {},
   "outputs": [
    {
     "data": {
      "text/plain": [
       "[]"
      ]
     },
     "execution_count": 14,
     "metadata": {},
     "output_type": "execute_result"
    },
    {
     "data": {
      "image/png": "[encoded data removed]",
      "text/plain": [
       "<Figure size 640x480 with 1 Axes>"
      ]
     },
     "metadata": {},
     "output_type": "display_data"
    }
   ],
   "source": [
    "plt.plot((port['1']-port['-1']).cum_sum())\n",
    "plt.plot()"
   ]
  },
  {
   "cell_type": "code",
   "execution_count": null,
   "id": "10d9695b",
   "metadata": {},
   "outputs": [],
   "source": []
  }
 ],
 "metadata": {
  "kernelspec": {
   "display_name": "factor-momentum",
   "language": "python",
   "name": "python3"
  },
  "language_info": {
   "codemirror_mode": {
    "name": "ipython",
    "version": 3
   },
   "file_extension": ".py",
   "mimetype": "text/x-python",
   "name": "python",
   "nbconvert_exporter": "python",
   "pygments_lexer": "ipython3",
   "version": "3.11.11"
  }
 },
 "nbformat": 4,
 "nbformat_minor": 5
}
